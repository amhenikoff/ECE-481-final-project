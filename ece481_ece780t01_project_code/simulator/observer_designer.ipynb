{
 "cells": [
  {
   "cell_type": "code",
   "execution_count": null,
   "id": "8224430f",
   "metadata": {},
   "outputs": [],
   "source": [
    "# %pip install slycot"
   ]
  },
  {
   "cell_type": "code",
   "execution_count": null,
   "id": "0ba54a57",
   "metadata": {},
   "outputs": [],
   "source": [
    "import control as ct\n",
    "import numpy as np\n",
    "import matplotlib.pyplot as plt\n",
    "from scipy.signal import place_poles\n",
    "\n",
    "p1 = 0.00001\n",
    "p2 = 0.0001\n",
    "p3 = 0.001\n",
    "\n",
    "target_poles = [p1, p2, p3]\n",
    "\n",
    "A = np.array([[1, 0.1, 0.005],\n",
    "              [0, 1, 0.1],\n",
    "              [0, 0, 1]])\n",
    "\n",
    "B = np.array([[0.00016666667], [0.005], [0.1]])\n",
    "\n",
    "C = np.array([[1, 0, 0]])\n",
    "\n",
    "# place_result = ct.place_varga(A=A, B=C.transpose(), p=target_poles, dtime=True)\n",
    "\n",
    "place_result = place_poles(A=A, B=C.T, poles=target_poles)"
   ]
  },
  {
   "cell_type": "code",
   "execution_count": null,
   "id": "dffba721",
   "metadata": {},
   "outputs": [],
   "source": [
    "L = place_result.gain_matrix.T"
   ]
  },
  {
   "cell_type": "code",
   "execution_count": null,
   "id": "a0a19418",
   "metadata": {},
   "outputs": [],
   "source": [
    "print(\"L = \", L)"
   ]
  }
 ],
 "metadata": {
  "kernelspec": {
   "display_name": "ece481_ece780t01_project_sim_venv",
   "language": "python",
   "name": "python3"
  },
  "language_info": {
   "codemirror_mode": {
    "name": "ipython",
    "version": 3
   },
   "file_extension": ".py",
   "mimetype": "text/x-python",
   "name": "python",
   "nbconvert_exporter": "python",
   "pygments_lexer": "ipython3",
   "version": "3.9.6"
  }
 },
 "nbformat": 4,
 "nbformat_minor": 5
}
