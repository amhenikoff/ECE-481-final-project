{
 "cells": [
  {
   "cell_type": "code",
   "execution_count": null,
   "id": "cf8d5914",
   "metadata": {},
   "outputs": [],
   "source": [
    "%load_ext autoreload\n",
    "%autoreload 2"
   ]
  },
  {
   "cell_type": "code",
   "execution_count": null,
   "id": "45ca34ca",
   "metadata": {},
   "outputs": [],
   "source": [
    "import numpy as np\n",
    "from flapper_sim import FlapperSim\n",
    "\n",
    "f = FlapperSim(robot_pose=np.array([0, 0, 0.8, 1.57]))\n",
    "position = f.get_output_measurement()\n",
    "y_1 = position[0]\n",
    "y_2 = position[1]\n",
    "y_3 = position[2]"
   ]
  },
  {
   "cell_type": "code",
   "execution_count": null,
   "id": "f9893fa6",
   "metadata": {},
   "outputs": [],
   "source": [
    "position_log = []\n",
    "target_position_log = []"
   ]
  },
  {
   "cell_type": "code",
   "execution_count": null,
   "id": "8167cc27",
   "metadata": {},
   "outputs": [],
   "source": [
    "# Discrete time state space model of robot\n",
    "T = 0.1  # Sampling time\n",
    "\n",
    "A_d = np.array([[1, 0.1, 0.005],\n",
    "                [0, 1, 0.1],\n",
    "                [0, 0, 1]])\n",
    "\n",
    "B_d = np.array([[0.00016666667], [0.005], [0.1]])\n",
    "\n",
    "C_d = np.array([[1, 0, 0]])"
   ]
  },
  {
   "cell_type": "code",
   "execution_count": null,
   "id": "4129688f",
   "metadata": {},
   "outputs": [],
   "source": [
    "# Controller\n",
    "F = 10**3 * np.array([[-3.375, -0.3375, -0.0225]])\n",
    "L = np.array([[-3], [-25], [-100]])"
   ]
  },
  {
   "cell_type": "code",
   "execution_count": null,
   "id": "5ec75532",
   "metadata": {},
   "outputs": [],
   "source": [
    "# Target path\n",
    "P0 = 0.8\n",
    "P1 = 1.2\n",
    "t0 = 0\n",
    "t1 = 100"
   ]
  },
  {
   "cell_type": "code",
   "execution_count": null,
   "id": "8c45af43",
   "metadata": {},
   "outputs": [],
   "source": [
    "# Target state function\n",
    "def get_target_x(time):\n",
    "    if time <= t0:\n",
    "        return np.array([[P0], [0], [0]])\n",
    "    elif time > t1:\n",
    "        return np.array([[P1], [0], [0]])\n",
    "    elif time <= 0.5 * (t0 + t1):\n",
    "        pos = 2 * (P1 - P0) * ((time - t0) / (t1 - t0)) ** 2 + P0\n",
    "        vel = 4 * (P1 - P0) * (time - t0) / (t1 - t0) ** 2\n",
    "        acc = 8 * (P1 - P0) / (t1 - t0) ** 2\n",
    "        return np.array([[pos], [vel], [acc]])\n",
    "    elif time > 0.5 * (t0 + t1):\n",
    "        pos = P1 - 2 * (P1 - P0) * ((time - t1) / (t1 - t0)) ** 2\n",
    "        vel = -4 * (P1 - P0) * (time - t1) / (t1 - t0) ** 2\n",
    "        acc = -8 * (P1 - P0) / (t1 - t0) ** 2\n",
    "        return np.array([[pos], [vel], [acc]])"
   ]
  },
  {
   "cell_type": "code",
   "execution_count": null,
   "id": "f8b73632",
   "metadata": {},
   "outputs": [],
   "source": [
    "# Initial state estimates\n",
    "x_hat_1 = np.array([[0], [0], position[0]])\n",
    "x_hat_2 = np.array([[0], [0], position[1]])\n",
    "x_hat_3 = np.array([[0], [0], position[2]])"
   ]
  },
  {
   "cell_type": "code",
   "execution_count": null,
   "id": "520b0fd0",
   "metadata": {},
   "outputs": [],
   "source": [
    "t = 0\n",
    "\n",
    "for i in range(2000):\n",
    "    target_x = get_target_x(t)  # Example target positions\n",
    "\n",
    "    # print(\"target_x_1.shape:\", target_x_1.shape)\n",
    "\n",
    "    u_1 = F @ (x_hat_1)\n",
    "    u_2 = F @ (x_hat_1)\n",
    "    u_3 = F @ (x_hat_1 - target_x[0])\n",
    "\n",
    "    # print(f\"t: {t}, u_1: {u_1}, u_2: {u_2}, u_3: {u_3}\")\n",
    "    # raise SystemExit\n",
    "\n",
    "    # print(\"(A_d + L @ C_d).shape:\", (A_d + L @ C_d).shape)\n",
    "    # print(\"x_hat_1.shape:\", x_hat_1.shape)\n",
    "\n",
    "    x_hat_1 = (A_d + (L @ C_d)) @ x_hat_1#+ B_d * u_1 - L * y_1\n",
    "    x_hat_2 = (A_d + (L @ C_d)) @ x_hat_2 #+ B_d * u_2 - L * y_2\n",
    "    x_hat_3 = (A_d + (L @ C_d)) @ x_hat_3 #+ B_d * u_3 - L * y_3\n",
    "\n",
    "    # print(f\"x_hat_1: {x_hat_1}, x_hat_2: {x_hat_2}, x_hat_3: {x_hat_3}\")\n",
    "    # print(f\"x_hat_1.shape: {x_hat_1.shape}, x_hat_2.shape: {x_hat_2.shape}, x_hat_3.shape: {x_hat_3.shape}\")\n",
    "\n",
    "    # print(f\"u_1.shape: {u_1.shape}, u_2.shape: {u_2.shape}, u_3.shape: {u_3.shape}\")\n",
    "\n",
    "    f.step(u=np.array([u_1[0], u_2[0], u_3[0]]))\n",
    "\n",
    "    position = f.get_output_measurement()\n",
    "\n",
    "    position_log.append(position)\n",
    "    target_position_log.append([[0], [0], target_x[0]])\n",
    "\n",
    "    y_1 = position[0]\n",
    "    y_2 = position[1]\n",
    "    y_3 = position[2]\n",
    "\n",
    "    t += T"
   ]
  },
  {
   "cell_type": "code",
   "execution_count": null,
   "id": "0abd7b97",
   "metadata": {},
   "outputs": [],
   "source": [
    "# position_log = np.array(position_log)\n",
    "# target_position_log = np.array(target_position_log)\n",
    "# print(target_position_log)"
   ]
  },
  {
   "cell_type": "code",
   "execution_count": null,
   "id": "a5f97ebc",
   "metadata": {},
   "outputs": [],
   "source": [
    "# print(position_log.shape)"
   ]
  },
  {
   "cell_type": "code",
   "execution_count": null,
   "id": "3b1eb44c",
   "metadata": {},
   "outputs": [],
   "source": [
    "import plotly.graph_objects as go\n",
    "\n",
    "# Plot the log of output measurements in 3d\n",
    "fig = go.Figure()\n",
    "fig = go.Figure(data=[go.Scatter3d(\n",
    "    x=np.array(position_log)[:, 0, 0],\n",
    "    y=np.array(position_log)[:, 1, 0],\n",
    "    z=np.array(position_log)[:, 2, 0],\n",
    "    mode='lines+markers',\n",
    "    marker=dict(size=4),\n",
    "    line=dict(width=2)\n",
    ")])\n",
    "fig.add_trace(go.Scatter3d(\n",
    "    x=np.array(target_position_log)[:, 0, 0],\n",
    "    y=np.array(target_position_log)[:, 1, 0],\n",
    "    z=np.array(target_position_log)[:, 2, 0],\n",
    "    mode='lines+markers',\n",
    "    marker=dict(size=4, color='red'),\n",
    "    line=dict(width=2, color='red')\n",
    "))\n",
    "fig.update_layout(\n",
    "    title='Output Measurements Over Time',\n",
    "    scene=dict(\n",
    "        xaxis_title='x',\n",
    "        yaxis_title='y',\n",
    "        zaxis_title='z',\n",
    "        xaxis=dict(range=[-1.0, 2.0]),\n",
    "        yaxis=dict(range=[-2.0, 2.0]),\n",
    "        zaxis=dict(range=[0.4, 1.5])\n",
    "    ),\n",
    "    width=800,\n",
    "    height=600\n",
    ")\n",
    "fig.show()"
   ]
  }
 ],
 "metadata": {
  "kernelspec": {
   "display_name": "ece481_ece780t01_project_sim_venv",
   "language": "python",
   "name": "python3"
  },
  "language_info": {
   "codemirror_mode": {
    "name": "ipython",
    "version": 3
   },
   "file_extension": ".py",
   "mimetype": "text/x-python",
   "name": "python",
   "nbconvert_exporter": "python",
   "pygments_lexer": "ipython3",
   "version": "3.9.6"
  }
 },
 "nbformat": 4,
 "nbformat_minor": 5
}
