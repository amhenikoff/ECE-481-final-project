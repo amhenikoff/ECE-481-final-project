{
 "cells": [
  {
   "cell_type": "code",
   "execution_count": null,
   "id": "cf8d5914",
   "metadata": {},
   "outputs": [],
   "source": [
    "%load_ext autoreload\n",
    "%autoreload 2"
   ]
  },
  {
   "cell_type": "code",
   "execution_count": null,
   "id": "45ca34ca",
   "metadata": {},
   "outputs": [],
   "source": [
    "import numpy as np\n",
    "from flapper_sim import FlapperSim\n",
    "\n",
    "f = FlapperSim(robot_pose=np.array([0, 0, 0.8, 1.57]))\n",
    "position = f.get_output_measurement()\n",
    "y_1 = position[0]\n",
    "y_2 = position[1]\n",
    "y_3 = position[2]"
   ]
  },
  {
   "cell_type": "code",
   "execution_count": null,
   "id": "f9893fa6",
   "metadata": {},
   "outputs": [],
   "source": [
    "position_log = []\n",
    "target_position_log = []\n",
    "estimated_state_log = []"
   ]
  },
  {
   "cell_type": "code",
   "execution_count": null,
   "id": "8167cc27",
   "metadata": {},
   "outputs": [],
   "source": [
    "# Discrete time state space model of robot\n",
    "T = 0.1  # Sampling time\n",
    "\n",
    "A_d = np.array([[1, 0.1, 0.005],\n",
    "                [0, 1, 0.1],\n",
    "                [0, 0, 1]])\n",
    "\n",
    "B_d = np.array([[0.00016666667], [0.005], [0.1]])\n",
    "\n",
    "C_d = np.array([[1, 0, 0]])"
   ]
  },
  {
   "cell_type": "code",
   "execution_count": null,
   "id": "4129688f",
   "metadata": {},
   "outputs": [],
   "source": [
    "# State feedback controller\n",
    "# F = 10**3 * np.array([[-1.000000000000000, -0.2, -0.018333333333333]])\n",
    "F = np.array([[-64.000000000000341, -41.600000000000023,  -9.813333333333333]])\n",
    "# F = 10**2 * np.array([[-3.52, -1.948,  -0.18673333333333]])\n",
    "\n",
    "# State observer\n",
    "# L = np.array([[-3], [-25], [-100]])\n",
    "L = np.array([[-1.090066116184267], [-4.528759116822354], [-7.739556556092396]])\n",
    "# L = np.array([[-1.529582004419328], [-5.871028337456465], [-9.493798716337043]])"
   ]
  },
  {
   "cell_type": "code",
   "execution_count": null,
   "id": "5ec75532",
   "metadata": {},
   "outputs": [],
   "source": [
    "# Target path\n",
    "P0 = np.array([0, 0, 0.8])\n",
    "# P1 = np.array([0.5, 0.5, 1.2])\n",
    "P1 = np.array([0.75, 0.75, 1.2])\n",
    "t0 = 0\n",
    "t1 = 20"
   ]
  },
  {
   "cell_type": "code",
   "execution_count": null,
   "id": "8c45af43",
   "metadata": {},
   "outputs": [],
   "source": [
    "# Target state function\n",
    "def get_target_x(time):\n",
    "    if time <= t0:\n",
    "        return np.vstack(([P0], [0, 0, 0], [0, 0, 0])) # \n",
    "    elif time > t1:\n",
    "        return np.vstack(([P1], [0, 0, 0], [0, 0, 0])) #\n",
    "    elif time <= 0.5 * (t0 + t1):\n",
    "        pos = 2 * (P1 - P0) * ((time - t0) / (t1 - t0)) ** 2 + P0\n",
    "        vel = 4 * (P1 - P0) * (time - t0) / (t1 - t0) ** 2\n",
    "        acc = 8 * (P1 - P0) / (t1 - t0) ** 2\n",
    "        return np.vstack((pos, vel, acc))\n",
    "    elif time > 0.5 * (t0 + t1):\n",
    "        pos = P1 - 2 * (P1 - P0) * ((time - t1) / (t1 - t0)) ** 2\n",
    "        vel = -4 * (P1 - P0) * (time - t1) / (t1 - t0) ** 2\n",
    "        acc = -8 * (P1 - P0) / (t1 - t0) ** 2\n",
    "        return np.vstack((pos, vel, acc))"
   ]
  },
  {
   "cell_type": "code",
   "execution_count": null,
   "id": "f8b73632",
   "metadata": {},
   "outputs": [],
   "source": [
    "# Initial state estimates\n",
    "x_hat_1 = np.array([position[0], [0], [0]])\n",
    "x_hat_2 = np.array([position[1], [0], [0]])\n",
    "x_hat_3 = np.array([position[2], [0], [0]])"
   ]
  },
  {
   "cell_type": "code",
   "execution_count": null,
   "id": "715962d8",
   "metadata": {},
   "outputs": [],
   "source": [
    "print(x_hat_1.shape)"
   ]
  },
  {
   "cell_type": "code",
   "execution_count": null,
   "id": "520b0fd0",
   "metadata": {},
   "outputs": [],
   "source": [
    "# Simulation loop\n",
    "t = 0\n",
    "\n",
    "for i in range(600):\n",
    "    estimated_state_log.append(([x_hat_1[0, 0]], [x_hat_2[0, 0]], [x_hat_3[0, 0]]))\n",
    "    target_x = get_target_x(t)  # Example target positions\n",
    "\n",
    "    # print(target_x)\n",
    "    # print(np.expand_dims(target_x[:, 0], axis=-1).shape)\n",
    "    # raise NotImplementedError(\"Target x shape is not correct, expected (3, 1)\")\n",
    "\n",
    "    u_1 = F @ (x_hat_1 - np.expand_dims(target_x[:, 0], axis=-1))\n",
    "    u_2 = F @ (x_hat_2 - np.expand_dims(target_x[:, 1], axis=-1))\n",
    "    u_3 = F @ (x_hat_3 - np.expand_dims(target_x[:, 2], axis=-1))\n",
    "\n",
    "    # print(\"u_1.shape = \", u_1.shape)\n",
    "\n",
    "    # Set the control inputs to zero for debugging\n",
    "    # u_1 = u_1# * 0.01\n",
    "    # u_2 = u_2# * 0.01\n",
    "    # u_3 = u_3# * 0.01\n",
    "\n",
    "    x_hat_1 = (A_d + (L @ C_d)) @ x_hat_1 + B_d * u_1 - L * y_1\n",
    "    x_hat_2 = (A_d + (L @ C_d)) @ x_hat_2 + B_d * u_2 - L * y_2\n",
    "    x_hat_3 = (A_d + (L @ C_d)) @ x_hat_3 + B_d * u_3 - L * y_3\n",
    "\n",
    "    f.step(u=np.array([u_1[0], u_2[0], u_3[0]]))\n",
    "\n",
    "    position = f.get_output_measurement()\n",
    "    # position = np.ones_like(position)\n",
    "\n",
    "    position_log.append(position)\n",
    "    target_position_log.append(([target_x[0,0]], [target_x[0,1]], [target_x[0,2]]))\n",
    "\n",
    "    y_1 = position[0]\n",
    "    y_2 = position[1]\n",
    "    y_3 = position[2]\n",
    "\n",
    "    # # Zero the measurements for debugging\n",
    "    # y_1 = y_1 * 0\n",
    "    # y_2 = y_2 * 0\n",
    "    # y_3 = y_3 * 0\n",
    "\n",
    "    t += T"
   ]
  },
  {
   "cell_type": "code",
   "execution_count": null,
   "id": "ebdcdcf2",
   "metadata": {},
   "outputs": [],
   "source": [
    "print(np.array(position_log).shape)"
   ]
  },
  {
   "cell_type": "code",
   "execution_count": null,
   "id": "87fb3566",
   "metadata": {},
   "outputs": [],
   "source": [
    "print(target_position_log)"
   ]
  },
  {
   "cell_type": "code",
   "execution_count": null,
   "id": "b4690086",
   "metadata": {},
   "outputs": [],
   "source": [
    "print(np.array(estimated_state_log).shape)"
   ]
  },
  {
   "cell_type": "code",
   "execution_count": null,
   "id": "3b1eb44c",
   "metadata": {},
   "outputs": [],
   "source": [
    "import plotly.graph_objects as go\n",
    "\n",
    "# Plot the log of output measurements in 3d\n",
    "fig = go.Figure()\n",
    "fig = go.Figure(data=[go.Scatter3d(\n",
    "    x=np.array(position_log)[:, 0, 0],\n",
    "    y=np.array(position_log)[:, 1, 0],\n",
    "    z=np.array(position_log)[:, 2, 0],\n",
    "    mode='lines+markers',\n",
    "    marker=dict(size=4),\n",
    "    line=dict(width=2),\n",
    "    name='Measured Position'  # Added label\n",
    ")])\n",
    "fig.add_trace(go.Scatter3d(\n",
    "    x=np.array(target_position_log)[:, 0, 0],\n",
    "    y=np.array(target_position_log)[:, 1, 0],\n",
    "    z=np.array(target_position_log)[:, 2, 0],\n",
    "    mode='lines+markers',\n",
    "    marker=dict(size=4, color='red'),\n",
    "    line=dict(width=2, color='red'),\n",
    "    name='Target Position'  # Added label\n",
    "))\n",
    "fig.add_trace(go.Scatter3d(\n",
    "    x=np.array(estimated_state_log)[:, 0, 0],\n",
    "    y=np.array(estimated_state_log)[:, 1, 0],\n",
    "    z=np.array(estimated_state_log)[:, 2, 0],\n",
    "    mode='lines+markers',\n",
    "    marker=dict(size=4, color='green'),\n",
    "    line=dict(width=2, color='green'),\n",
    "    name='Estimated State'  # Added label\n",
    "))\n",
    "\n",
    "fig.update_layout(\n",
    "    title='Measured Position vs Target Position Over Time',\n",
    "    scene=dict(\n",
    "        xaxis_title='x',\n",
    "        yaxis_title='y',\n",
    "        zaxis_title='z',\n",
    "        xaxis=dict(range=[-1.1, 2.1]),\n",
    "        yaxis=dict(range=[-2.1, 2.1]),\n",
    "        zaxis=dict(range=[0.3, 1.6])\n",
    "    ),\n",
    "    width=800,\n",
    "    height=600,\n",
    "    legend=dict(\n",
    "        x=0.7,\n",
    "        y=0.1,\n",
    "        bgcolor=\"rgba(255, 255, 255, 0.5)\"\n",
    "    )\n",
    ")\n",
    "fig.show()"
   ]
  }
 ],
 "metadata": {
  "kernelspec": {
   "display_name": "ece481_ece780t01_project_sim_venv",
   "language": "python",
   "name": "python3"
  },
  "language_info": {
   "codemirror_mode": {
    "name": "ipython",
    "version": 3
   },
   "file_extension": ".py",
   "mimetype": "text/x-python",
   "name": "python",
   "nbconvert_exporter": "python",
   "pygments_lexer": "ipython3",
   "version": "3.9.6"
  }
 },
 "nbformat": 4,
 "nbformat_minor": 5
}
