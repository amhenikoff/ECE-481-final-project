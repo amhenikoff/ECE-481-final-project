{
 "cells": [
  {
   "cell_type": "code",
   "execution_count": null,
   "id": "cf8d5914",
   "metadata": {},
   "outputs": [],
   "source": [
    "%load_ext autoreload\n",
    "%autoreload 2"
   ]
  },
  {
   "cell_type": "code",
   "execution_count": null,
   "id": "45ca34ca",
   "metadata": {},
   "outputs": [],
   "source": [
    "import numpy as np\n",
    "from flapper_sim import FlapperSim\n",
    "\n",
    "f = FlapperSim(robot_pose=np.array([0, 0, 0.8, 1.57]))"
   ]
  },
  {
   "cell_type": "code",
   "execution_count": null,
   "id": "f9893fa6",
   "metadata": {},
   "outputs": [],
   "source": [
    "y_log = []"
   ]
  },
  {
   "cell_type": "code",
   "execution_count": null,
   "id": "520b0fd0",
   "metadata": {},
   "outputs": [],
   "source": [
    "for i in range(1000):\n",
    "    y_ = f.get_output_measurement()\n",
    "    y_log.append(y_)\n",
    "\n",
    "    print(\"Output Measurement:\", y_)\n",
    "\n",
    "    f.step(u=np.array([1.0, 2.0, 3.0]))"
   ]
  },
  {
   "cell_type": "code",
   "execution_count": null,
   "id": "7177d77d",
   "metadata": {},
   "outputs": [],
   "source": [
    "# %pip install --upgrade nbformat"
   ]
  },
  {
   "cell_type": "code",
   "execution_count": null,
   "id": "0abd7b97",
   "metadata": {},
   "outputs": [],
   "source": [
    "y_log = np.array(y_log)\n",
    "print(y_log)"
   ]
  },
  {
   "cell_type": "code",
   "execution_count": null,
   "id": "a5f97ebc",
   "metadata": {},
   "outputs": [],
   "source": [
    "print(y_log.shape)"
   ]
  },
  {
   "cell_type": "code",
   "execution_count": null,
   "id": "3b1eb44c",
   "metadata": {},
   "outputs": [],
   "source": [
    "import plotly.graph_objects as go\n",
    "\n",
    "# Plot the log of output measurements in 3d\n",
    "fig = go.Figure(data=[go.Scatter3d(\n",
    "    x=y_log[:, 0, 0],\n",
    "    y=y_log[:, 1, 0],\n",
    "    z=y_log[:, 2, 0],\n",
    "    mode='lines+markers',\n",
    "    marker=dict(size=4),\n",
    "    line=dict(width=2)\n",
    ")])\n",
    "fig.update_layout(\n",
    "    title='Output Measurements Over Time',\n",
    "    scene=dict(\n",
    "        xaxis_title='x',\n",
    "        yaxis_title='y',\n",
    "        zaxis_title='z',\n",
    "        xaxis=dict(range=[-1.0, 2.0]),\n",
    "        yaxis=dict(range=[-2.0, 2.0]),\n",
    "        zaxis=dict(range=[0.4, 1.5])\n",
    "    ),\n",
    "    width=800,\n",
    "    height=600\n",
    ")\n",
    "fig.show()"
   ]
  }
 ],
 "metadata": {
  "kernelspec": {
   "display_name": "ece481_ece780t01_project_sim_venv",
   "language": "python",
   "name": "python3"
  },
  "language_info": {
   "codemirror_mode": {
    "name": "ipython",
    "version": 3
   },
   "file_extension": ".py",
   "mimetype": "text/x-python",
   "name": "python",
   "nbconvert_exporter": "python",
   "pygments_lexer": "ipython3",
   "version": "3.9.6"
  }
 },
 "nbformat": 4,
 "nbformat_minor": 5
}
