{
 "cells": [
  {
   "cell_type": "code",
   "execution_count": null,
   "id": "1d3b7061",
   "metadata": {},
   "outputs": [],
   "source": [
    "T = 0.1"
   ]
  },
  {
   "cell_type": "code",
   "execution_count": null,
   "id": "102fe2fe",
   "metadata": {},
   "outputs": [],
   "source": [
    "import numpy as np\n",
    "\n",
    "# Load from file\n",
    "data = np.load('data_log_best_attempt.npz')\n",
    "\n",
    "# Access arrays\n",
    "position_log = data['array_a']\n",
    "target_position_log = data['array_b']\n",
    "target_state_log = data['array_c']\n",
    "estimated_state_log = data['array_d']\n",
    "estimated_state_log_2 = data['array_e']\n",
    "u_log = data['array_f']"
   ]
  },
  {
   "cell_type": "code",
   "execution_count": null,
   "id": "a73f973c",
   "metadata": {},
   "outputs": [],
   "source": [
    "# %pip install plotly\n",
    "# %pip install --upgrade nbformat"
   ]
  },
  {
   "cell_type": "code",
   "execution_count": null,
   "id": "e80d4b7a",
   "metadata": {},
   "outputs": [],
   "source": [
    "# Plot position over time\n",
    "import plotly.graph_objects as go\n",
    "# Plot the log of output measurements in 3d\n",
    "fig = go.Figure()\n",
    "fig = go.Figure(data=[go.Scatter3d(\n",
    "    x=np.array(position_log)[:, 0, 0],\n",
    "    y=np.array(position_log)[:, 1, 0],\n",
    "    z=np.array(position_log)[:, 2, 0],\n",
    "    mode='lines+markers',\n",
    "    marker=dict(size=4),\n",
    "    line=dict(width=2),\n",
    "    name='Measured Position'  # Added label\n",
    ")])\n",
    "fig.add_trace(go.Scatter3d(\n",
    "    x=np.array(estimated_state_log)[:, 0, 0],\n",
    "    y=np.array(estimated_state_log)[:, 1, 0],\n",
    "    z=np.array(estimated_state_log)[:, 2, 0],\n",
    "    mode='lines+markers',\n",
    "    marker=dict(size=4, color='green'),\n",
    "    line=dict(width=2, color='green'),\n",
    "    name='Estimated State'  # Added label\n",
    "))\n",
    "fig.add_trace(go.Scatter3d(\n",
    "    x=np.array(target_position_log)[:, 0, 0],\n",
    "    y=np.array(target_position_log)[:, 1, 0],\n",
    "    z=np.array(target_position_log)[:, 2, 0],\n",
    "    mode='lines+markers',\n",
    "    marker=dict(size=4, color='red'),\n",
    "    line=dict(width=2, color='red'),\n",
    "    name='Target Position'  # Added label\n",
    "))\n",
    "\n",
    "fig.update_layout(\n",
    "    title='Measured Position vs Target Position Over Time',\n",
    "    scene=dict(\n",
    "        xaxis_title='x',\n",
    "        yaxis_title='y',\n",
    "        zaxis_title='z',\n",
    "        xaxis=dict(range=[-1.1, 2.1]),\n",
    "        yaxis=dict(range=[-2.1, 2.1]),\n",
    "        zaxis=dict(range=[0.3, 1.6])\n",
    "    ),\n",
    "    width=800,\n",
    "    height=600,\n",
    "    legend=dict(\n",
    "        x=0.7,\n",
    "        y=0.1,\n",
    "        bgcolor=\"rgba(255, 255, 255, 0.5)\"\n",
    "    )\n",
    ")\n",
    "fig.show()"
   ]
  },
  {
   "cell_type": "code",
   "execution_count": null,
   "id": "a58b90be",
   "metadata": {},
   "outputs": [],
   "source": [
    " #plot X position, velocity, and acceleration in 2d\n",
    "import matplotlib.pyplot as plt\n",
    "time_dimension = T * np.arange(len(position_log))\n",
    "\n",
    "plt.plot(time_dimension, np.array(position_log)[:, 0, 0], label='Measured X Position')\n",
    "plt.plot(time_dimension, np.array(estimated_state_log_2)[:, 0, 0], label='Estimated X Position')\n",
    "plt.plot(time_dimension, np.array(target_state_log)[:, 0, 0], label='Target X Position')\n",
    "plt.legend()\n",
    "plt.show()\n",
    "\n",
    "# plt.plot(time_dimension, np.array(position_log)[:, 3, 0], label='Measured X Velocity')\n",
    "plt.plot(time_dimension, np.array(estimated_state_log_2)[:, 1, 0], label='Estimated X Velocity')\n",
    "plt.plot(time_dimension, np.array(target_state_log)[:, 1, 0], label='Target X Velocity')\n",
    "plt.legend()\n",
    "plt.show()\n",
    "\n",
    "# plt.plot(time_dimension, np.array(position_log)[:, 6, 0], label='Measured X Acceleration')\n",
    "plt.plot(time_dimension, np.array(estimated_state_log_2)[:, 2, 0], label='Estimated X Acceleration')\n",
    "plt.plot(time_dimension, np.array(target_state_log)[:, 2, 0], label='Target X Acceleration')\n",
    "plt.legend()\n",
    "plt.show()\n",
    "\n",
    "plt.plot(time_dimension, np.array(u_log)[:, 0], label='Control Input X')\n",
    "plt.legend()\n",
    "plt.show()"
   ]
  }
 ],
 "metadata": {
  "kernelspec": {
   "display_name": "ece481_ece780t01_project_venv",
   "language": "python",
   "name": "python3"
  },
  "language_info": {
   "codemirror_mode": {
    "name": "ipython",
    "version": 3
   },
   "file_extension": ".py",
   "mimetype": "text/x-python",
   "name": "python",
   "nbconvert_exporter": "python",
   "pygments_lexer": "ipython3",
   "version": "3.9.6"
  }
 },
 "nbformat": 4,
 "nbformat_minor": 5
}
